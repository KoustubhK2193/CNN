{
  "nbformat": 4,
  "nbformat_minor": 0,
  "metadata": {
    "colab": {
      "provenance": []
    },
    "kernelspec": {
      "name": "python3",
      "display_name": "Python 3"
    },
    "language_info": {
      "name": "python"
    },
    "accelerator": "TPU"
  },
  "cells": [
    {
      "cell_type": "code",
      "execution_count": 2,
      "metadata": {
        "id": "yYQ6F4Pzw0-g"
      },
      "outputs": [],
      "source": [
        "import tensorflow as tf\n"
      ]
    },
    {
      "cell_type": "code",
      "source": [],
      "metadata": {
        "id": "hNttXwIeMa3T"
      },
      "execution_count": 2,
      "outputs": []
    },
    {
      "cell_type": "code",
      "source": [
        "IMG_HEIGHT = 128\n",
        "IMG_WIDTH = 128\n",
        "IMG_Channel = 3"
      ],
      "metadata": {
        "id": "W37wmpZz0rRQ"
      },
      "execution_count": 3,
      "outputs": []
    },
    {
      "cell_type": "code",
      "source": [
        "from tensorflow import keras"
      ],
      "metadata": {
        "id": "4opkh3sJ04Rt"
      },
      "execution_count": 4,
      "outputs": []
    },
    {
      "cell_type": "code",
      "source": [
        "input = keras.layers.Input((IMG_WIDTH,IMG_HEIGHT,IMG_Channel))\n",
        "img = keras.layers.Lambda(lambda x:x/255)(input)"
      ],
      "metadata": {
        "id": "cbfmPI8U1GXB"
      },
      "execution_count": 5,
      "outputs": []
    },
    {
      "cell_type": "code",
      "source": [
        "c1 = tf.keras.layers.Conv2D(16,(3,3),activation = 'relu',kernel_initializer='he_normal',padding='same')(input)\n",
        "c1 = keras.layers.Dropout(0.1)(c1)\n",
        "c1 = tf.keras.layers.Conv2D(16,(3,3),activation = 'relu',kernel_initializer='he_normal',padding='same')(c1)\n",
        "p1 = keras.layers.MaxPool2D((2,2))(c1)"
      ],
      "metadata": {
        "id": "285pi-9L1nN-"
      },
      "execution_count": 7,
      "outputs": []
    },
    {
      "cell_type": "code",
      "source": [
        "c2 = tf.keras.layers.Conv2D(32,(3,3),activation = 'relu',kernel_initializer='he_normal',padding='same')(p1)\n",
        "c2 = keras.layers.Dropout(0.1)(c2)\n",
        "c2 = tf.keras.layers.Conv2D(32,(3,3),activation = 'relu',kernel_initializer='he_normal',padding='same')(c2)\n",
        "p2 = keras.layers.MaxPool2D((2,2))(c2)"
      ],
      "metadata": {
        "id": "XRe1ihV3MZ7o"
      },
      "execution_count": 10,
      "outputs": []
    },
    {
      "cell_type": "code",
      "source": [
        "c3 = tf.keras.layers.Conv2D(64,(3,3),activation = 'relu',kernel_initializer='he_normal',padding='same')(p2)\n",
        "c3 = keras.layers.Dropout(0.1)(c3)\n",
        "c3 = tf.keras.layers.Conv2D(64,(3,3),activation = 'relu',kernel_initializer='he_normal',padding='same')(c3)\n",
        "p3 = keras.layers.MaxPool2D((2,2))(c3)"
      ],
      "metadata": {
        "id": "S6lo5pbuN2-L"
      },
      "execution_count": 11,
      "outputs": []
    },
    {
      "cell_type": "code",
      "source": [
        "c4 = tf.keras.layers.Conv2D(128,(3,3),activation = 'relu',kernel_initializer='he_normal',padding='same')(p3)\n",
        "c4 = keras.layers.Dropout(0.1)(c4)\n",
        "c4 = tf.keras.layers.Conv2D(128,(3,3),activation = 'relu',kernel_initializer='he_normal',padding='same')(c4)\n",
        "p4 = keras.layers.MaxPool2D((2,2))(c4)"
      ],
      "metadata": {
        "id": "2GjcMYxnOSSf"
      },
      "execution_count": 12,
      "outputs": []
    },
    {
      "cell_type": "code",
      "source": [
        "c5 = tf.keras.layers.Conv2D(256,(3,3),activation = 'relu',kernel_initializer='he_normal',padding='same')(p4)\n",
        "c5 = keras.layers.Dropout(0.1)(c5)\n",
        "c5 = tf.keras.layers.Conv2D(256,(3,3),activation = 'relu',kernel_initializer='he_normal',padding='same')(c5)"
      ],
      "metadata": {
        "id": "8zwWl6NVOnBr"
      },
      "execution_count": 14,
      "outputs": []
    },
    {
      "cell_type": "code",
      "source": [
        "u6 = keras.layers.Conv2DTranspose(128,(2,2),strides=(2,2),padding='same')(c5)\n",
        "u6 = keras.layers.concatenate([u6,c4])\n",
        "c6 = tf.keras.layers.Conv2D(128,(3,3),activation = 'relu',kernel_initializer='he_normal',padding='same')(u6)\n",
        "c6 = keras.layers.Dropout(0.1)(c6)\n",
        "c6 = tf.keras.layers.Conv2D(128,(3,3),activation = 'relu',kernel_initializer='he_normal',padding='same')(c6)"
      ],
      "metadata": {
        "id": "SuXBlDIkOvdA"
      },
      "execution_count": 16,
      "outputs": []
    },
    {
      "cell_type": "code",
      "source": [
        "u7 = keras.layers.Conv2DTranspose(64,(2,2),strides=(2,2),padding='same')(c6)\n",
        "u7 = keras.layers.concatenate([u7,c3])\n",
        "c7 = tf.keras.layers.Conv2D(64,(3,3),activation = 'relu',kernel_initializer='he_normal',padding='same')(u7)\n",
        "c7 = keras.layers.Dropout(0.1)(c7)\n",
        "c7 = tf.keras.layers.Conv2D(64,(3,3),activation = 'relu',kernel_initializer='he_normal',padding='same')(c7)"
      ],
      "metadata": {
        "id": "1pYFvfvJQTty"
      },
      "execution_count": 18,
      "outputs": []
    },
    {
      "cell_type": "code",
      "source": [
        "u8 = keras.layers.Conv2DTranspose(32,(2,2),strides=(2,2),padding='same')(c7)\n",
        "u8 = keras.layers.concatenate([u8,c2])\n",
        "c8 = tf.keras.layers.Conv2D(32,(3,3),activation = 'relu',kernel_initializer='he_normal',padding='same')(u8)\n",
        "c8 = keras.layers.Dropout(0.1)(c8)\n",
        "c8 = tf.keras.layers.Conv2D(32,(3,3),activation = 'relu',kernel_initializer='he_normal',padding='same')(c8)"
      ],
      "metadata": {
        "id": "7Wo7bSSJRS99"
      },
      "execution_count": 19,
      "outputs": []
    },
    {
      "cell_type": "code",
      "source": [
        "u9 = keras.layers.Conv2DTranspose(16,(2,2),strides=(2,2),padding='same')(c8)\n",
        "u9 = keras.layers.concatenate([u9,c1],axis=3)\n",
        "c9 = tf.keras.layers.Conv2D(16,(3,3),activation = 'relu',kernel_initializer='he_normal',padding='same')(u9)\n",
        "c9 = keras.layers.Dropout(0.1)(c9)\n",
        "c9 = tf.keras.layers.Conv2D(16,(3,3),activation = 'relu',kernel_initializer='he_normal',padding='same')(c9)"
      ],
      "metadata": {
        "id": "SaPXkIG7SC4f"
      },
      "execution_count": 25,
      "outputs": []
    },
    {
      "cell_type": "code",
      "source": [
        "u8.shape"
      ],
      "metadata": {
        "colab": {
          "base_uri": "https://localhost:8080/"
        },
        "id": "HiBkofrBSS3t",
        "outputId": "ef4e3055-b021-41db-afbf-74e8db3c3c2f"
      },
      "execution_count": 22,
      "outputs": [
        {
          "output_type": "execute_result",
          "data": {
            "text/plain": [
              "TensorShape([None, 64, 64, 64])"
            ]
          },
          "metadata": {},
          "execution_count": 22
        }
      ]
    },
    {
      "cell_type": "code",
      "source": [
        "c2.shape"
      ],
      "metadata": {
        "colab": {
          "base_uri": "https://localhost:8080/"
        },
        "id": "ZAPcYs6GS1Ie",
        "outputId": "2aff74d0-3160-42cd-9031-86dc970145d9"
      },
      "execution_count": 23,
      "outputs": [
        {
          "output_type": "execute_result",
          "data": {
            "text/plain": [
              "TensorShape([None, 64, 64, 32])"
            ]
          },
          "metadata": {},
          "execution_count": 23
        }
      ]
    },
    {
      "cell_type": "code",
      "source": [
        "print(u7.shape + c3.shape)"
      ],
      "metadata": {
        "colab": {
          "base_uri": "https://localhost:8080/"
        },
        "id": "jg6PvT8iS4rY",
        "outputId": "f985da22-b62b-47cc-9cd3-200a17dd6cf6"
      },
      "execution_count": 24,
      "outputs": [
        {
          "output_type": "stream",
          "name": "stdout",
          "text": [
            "(None, 32, 32, 128, None, 32, 32, 64)\n"
          ]
        }
      ]
    },
    {
      "cell_type": "code",
      "source": [
        "output = keras.layers.Conv2D(1,(1,1),activation='sigmoid')(c9)"
      ],
      "metadata": {
        "id": "2pBwxo69TExq"
      },
      "execution_count": 26,
      "outputs": []
    },
    {
      "cell_type": "code",
      "source": [
        "model = keras.Model(inputs=[input],outputs=[output])"
      ],
      "metadata": {
        "id": "T6YTPDCPToCZ"
      },
      "execution_count": 27,
      "outputs": []
    },
    {
      "cell_type": "code",
      "source": [
        "model.compile(optimizer='adam',loss='binary_crossentropy',metrics=['accuracy'])"
      ],
      "metadata": {
        "id": "PSw3u_1BT-qt"
      },
      "execution_count": 28,
      "outputs": []
    },
    {
      "cell_type": "code",
      "source": [
        "model.summary()"
      ],
      "metadata": {
        "colab": {
          "base_uri": "https://localhost:8080/"
        },
        "id": "xQy-v4xmUanG",
        "outputId": "264e871d-be90-4b5e-fd01-4fa754016778"
      },
      "execution_count": 29,
      "outputs": [
        {
          "output_type": "stream",
          "name": "stdout",
          "text": [
            "Model: \"model\"\n",
            "__________________________________________________________________________________________________\n",
            " Layer (type)                   Output Shape         Param #     Connected to                     \n",
            "==================================================================================================\n",
            " input_1 (InputLayer)           [(None, 128, 128, 3  0           []                               \n",
            "                                )]                                                                \n",
            "                                                                                                  \n",
            " conv2d_2 (Conv2D)              (None, 128, 128, 16  448         ['input_1[0][0]']                \n",
            "                                )                                                                 \n",
            "                                                                                                  \n",
            " dropout_1 (Dropout)            (None, 128, 128, 16  0           ['conv2d_2[0][0]']               \n",
            "                                )                                                                 \n",
            "                                                                                                  \n",
            " conv2d_3 (Conv2D)              (None, 128, 128, 16  2320        ['dropout_1[0][0]']              \n",
            "                                )                                                                 \n",
            "                                                                                                  \n",
            " max_pooling2d_1 (MaxPooling2D)  (None, 64, 64, 16)  0           ['conv2d_3[0][0]']               \n",
            "                                                                                                  \n",
            " conv2d_8 (Conv2D)              (None, 64, 64, 32)   4640        ['max_pooling2d_1[0][0]']        \n",
            "                                                                                                  \n",
            " dropout_4 (Dropout)            (None, 64, 64, 32)   0           ['conv2d_8[0][0]']               \n",
            "                                                                                                  \n",
            " conv2d_9 (Conv2D)              (None, 64, 64, 32)   9248        ['dropout_4[0][0]']              \n",
            "                                                                                                  \n",
            " max_pooling2d_4 (MaxPooling2D)  (None, 32, 32, 32)  0           ['conv2d_9[0][0]']               \n",
            "                                                                                                  \n",
            " conv2d_10 (Conv2D)             (None, 32, 32, 64)   18496       ['max_pooling2d_4[0][0]']        \n",
            "                                                                                                  \n",
            " dropout_5 (Dropout)            (None, 32, 32, 64)   0           ['conv2d_10[0][0]']              \n",
            "                                                                                                  \n",
            " conv2d_11 (Conv2D)             (None, 32, 32, 64)   36928       ['dropout_5[0][0]']              \n",
            "                                                                                                  \n",
            " max_pooling2d_5 (MaxPooling2D)  (None, 16, 16, 64)  0           ['conv2d_11[0][0]']              \n",
            "                                                                                                  \n",
            " conv2d_12 (Conv2D)             (None, 16, 16, 128)  73856       ['max_pooling2d_5[0][0]']        \n",
            "                                                                                                  \n",
            " dropout_6 (Dropout)            (None, 16, 16, 128)  0           ['conv2d_12[0][0]']              \n",
            "                                                                                                  \n",
            " conv2d_13 (Conv2D)             (None, 16, 16, 128)  147584      ['dropout_6[0][0]']              \n",
            "                                                                                                  \n",
            " max_pooling2d_6 (MaxPooling2D)  (None, 8, 8, 128)   0           ['conv2d_13[0][0]']              \n",
            "                                                                                                  \n",
            " conv2d_16 (Conv2D)             (None, 8, 8, 256)    295168      ['max_pooling2d_6[0][0]']        \n",
            "                                                                                                  \n",
            " dropout_8 (Dropout)            (None, 8, 8, 256)    0           ['conv2d_16[0][0]']              \n",
            "                                                                                                  \n",
            " conv2d_17 (Conv2D)             (None, 8, 8, 256)    590080      ['dropout_8[0][0]']              \n",
            "                                                                                                  \n",
            " conv2d_transpose (Conv2DTransp  (None, 16, 16, 128)  131200     ['conv2d_17[0][0]']              \n",
            " ose)                                                                                             \n",
            "                                                                                                  \n",
            " concatenate (Concatenate)      (None, 16, 16, 256)  0           ['conv2d_transpose[0][0]',       \n",
            "                                                                  'conv2d_13[0][0]']              \n",
            "                                                                                                  \n",
            " conv2d_18 (Conv2D)             (None, 16, 16, 128)  295040      ['concatenate[0][0]']            \n",
            "                                                                                                  \n",
            " dropout_9 (Dropout)            (None, 16, 16, 128)  0           ['conv2d_18[0][0]']              \n",
            "                                                                                                  \n",
            " conv2d_19 (Conv2D)             (None, 16, 16, 128)  147584      ['dropout_9[0][0]']              \n",
            "                                                                                                  \n",
            " conv2d_transpose_2 (Conv2DTran  (None, 32, 32, 64)  32832       ['conv2d_19[0][0]']              \n",
            " spose)                                                                                           \n",
            "                                                                                                  \n",
            " concatenate_2 (Concatenate)    (None, 32, 32, 128)  0           ['conv2d_transpose_2[0][0]',     \n",
            "                                                                  'conv2d_11[0][0]']              \n",
            "                                                                                                  \n",
            " conv2d_22 (Conv2D)             (None, 32, 32, 64)   73792       ['concatenate_2[0][0]']          \n",
            "                                                                                                  \n",
            " dropout_11 (Dropout)           (None, 32, 32, 64)   0           ['conv2d_22[0][0]']              \n",
            "                                                                                                  \n",
            " conv2d_23 (Conv2D)             (None, 32, 32, 64)   36928       ['dropout_11[0][0]']             \n",
            "                                                                                                  \n",
            " conv2d_transpose_3 (Conv2DTran  (None, 64, 64, 32)  8224        ['conv2d_23[0][0]']              \n",
            " spose)                                                                                           \n",
            "                                                                                                  \n",
            " concatenate_3 (Concatenate)    (None, 64, 64, 64)   0           ['conv2d_transpose_3[0][0]',     \n",
            "                                                                  'conv2d_9[0][0]']               \n",
            "                                                                                                  \n",
            " conv2d_24 (Conv2D)             (None, 64, 64, 32)   18464       ['concatenate_3[0][0]']          \n",
            "                                                                                                  \n",
            " dropout_12 (Dropout)           (None, 64, 64, 32)   0           ['conv2d_24[0][0]']              \n",
            "                                                                                                  \n",
            " conv2d_25 (Conv2D)             (None, 64, 64, 32)   9248        ['dropout_12[0][0]']             \n",
            "                                                                                                  \n",
            " conv2d_transpose_6 (Conv2DTran  (None, 128, 128, 16  2064       ['conv2d_25[0][0]']              \n",
            " spose)                         )                                                                 \n",
            "                                                                                                  \n",
            " concatenate_6 (Concatenate)    (None, 128, 128, 32  0           ['conv2d_transpose_6[0][0]',     \n",
            "                                )                                 'conv2d_3[0][0]']               \n",
            "                                                                                                  \n",
            " conv2d_26 (Conv2D)             (None, 128, 128, 16  4624        ['concatenate_6[0][0]']          \n",
            "                                )                                                                 \n",
            "                                                                                                  \n",
            " dropout_13 (Dropout)           (None, 128, 128, 16  0           ['conv2d_26[0][0]']              \n",
            "                                )                                                                 \n",
            "                                                                                                  \n",
            " conv2d_27 (Conv2D)             (None, 128, 128, 16  2320        ['dropout_13[0][0]']             \n",
            "                                )                                                                 \n",
            "                                                                                                  \n",
            " conv2d_28 (Conv2D)             (None, 128, 128, 1)  17          ['conv2d_27[0][0]']              \n",
            "                                                                                                  \n",
            "==================================================================================================\n",
            "Total params: 1,941,105\n",
            "Trainable params: 1,941,105\n",
            "Non-trainable params: 0\n",
            "__________________________________________________________________________________________________\n"
          ]
        }
      ]
    },
    {
      "cell_type": "code",
      "source": [],
      "metadata": {
        "id": "T5lyUZe0UfeJ"
      },
      "execution_count": null,
      "outputs": []
    }
  ]
}